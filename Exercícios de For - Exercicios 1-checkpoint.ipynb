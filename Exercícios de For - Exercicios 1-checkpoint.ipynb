{
 "cells": [
  {
   "cell_type": "markdown",
   "metadata": {},
   "source": [
    "# Exercícios\n",
    "\n",
    "## 1. Criando um Registro de Hóspedes\n",
    "\n",
    "Digamos que você está criando o sistema para registrar a chegada de hóspedes em um hotel. No hotel, os hóspedes podem ter quartos com 1, 2, 3 e 4 pessoas. Seu sistema deve conseguir:\n",
    "\n",
    "1. Identificar quantas pessoas o hóspede que acabou de chegar vai ter no quarto (perguntando por meio de input)\n",
    "2. De acordo com a quantidade de pessoas do hóspede, ele deve fazer um for para perguntar o cpf e o nome de cada pessoa, a fim de registrá-la no quarto (2 inputs para cada pessoa, 1 para o cpf e outro para o nome)\n",
    "3. O seu programa então deve gerar uma lista com todas as pessoas que ficarão no quarto em que cada item dessa lista é o nome da pessoa e o cpf da pessoa, assim:"
   ]
  },
  {
   "cell_type": "raw",
   "metadata": {},
   "source": [
    "quarto = [\n",
    "    ['João', 'cpf:00000000000'],\n",
    "    ['Julia', 'cpf:11111111111'],\n",
    "    ['Marcus', 'cpf:22222222222'],\n",
    "    ['Maria', 'cpf:33333333333'],\n",
    "]"
   ]
  },
  {
   "cell_type": "markdown",
   "metadata": {},
   "source": [
    "- Para simplificar, não vamos nos preocupar com possibilidades de \"tentar colocar mais de 1 hóspede, digitar o cpf errado, etc. Nosso objetivo é treinar a criação de uma rotina de cadastro"
   ]
  },
  {
   "cell_type": "code",
   "execution_count": 73,
   "metadata": {},
   "outputs": [
    {
     "name": "stdin",
     "output_type": "stream",
     "text": [
      "quantas pessoas ficarão no quarto?  2\n",
      "qual o nome da 1° pessoa? joao\n",
      "qual o cpf da 1° pessoa? 0101010101\n",
      "qual o nome da 2° pessoa? marcos\n",
      "qual o cpf da 2° pessoa? 202020202\n"
     ]
    },
    {
     "name": "stdout",
     "output_type": "stream",
     "text": [
      "[['joao', 'cpf: 0101010101'], ['marcos', 'cpf: 202020202']]\n"
     ]
    }
   ],
   "source": [
    "qntd_pessoas = int(input(\"quantas pessoas ficarão no quarto? \"))\n",
    "\n",
    "quarto = []\n",
    "\n",
    "for i in range(qntd_pessoas):\n",
    "    nome = input(\"qual o nome da {}° pessoa?\".format(i+1))\n",
    "    cpf = input(\"qual o cpf da {}° pessoa?\".format(i+1))\n",
    "    hospede = [nome, \"cpf: {}\".format(cpf)]\n",
    "    quarto.append(hospede)\n",
    "print(quarto)"
   ]
  },
  {
   "cell_type": "markdown",
   "metadata": {},
   "source": [
    "## 2. Análise de Vendas\n",
    "\n",
    "Nesse exercício vamos fazer uma \"análise simples\" de atingimento de Meta.\n",
    "\n",
    "Temos uma lista com os vendedores e os valores de vendas e queremos identificar (printar) quais os vendedores que bateram a meta e qual foi o valor que eles venderam."
   ]
  },
  {
   "cell_type": "code",
   "execution_count": 1,
   "metadata": {},
   "outputs": [],
   "source": [
    "meta = 10000\n",
    "vendas = [\n",
    "    ['João', 15000],\n",
    "    ['Julia', 27000],\n",
    "    ['Marcus', 9900],\n",
    "    ['Maria', 3750],\n",
    "    ['Ana', 10300],\n",
    "    ['Alon', 7870],\n",
    "]\n"
   ]
  },
  {
   "cell_type": "code",
   "execution_count": 23,
   "metadata": {},
   "outputs": [
    {
     "name": "stdout",
     "output_type": "stream",
     "text": [
      "['João', 15000]\n",
      "['Julia', 27000]\n",
      "['Ana', 10300]\n"
     ]
    },
    {
     "ename": "TypeError",
     "evalue": "'>=' not supported between instances of 'list' and 'int'",
     "output_type": "error",
     "traceback": [
      "\u001b[1;31m---------------------------------------------------------------------------\u001b[0m",
      "\u001b[1;31mTypeError\u001b[0m                                 Traceback (most recent call last)",
      "Cell \u001b[1;32mIn[23], line 2\u001b[0m\n\u001b[0;32m      1\u001b[0m \u001b[38;5;28;01mfor\u001b[39;00m venda \u001b[38;5;129;01min\u001b[39;00m vendas:\n\u001b[1;32m----> 2\u001b[0m     \u001b[38;5;28;01mif\u001b[39;00m venda[\u001b[38;5;241m1\u001b[39m] \u001b[38;5;241m>\u001b[39m\u001b[38;5;241m=\u001b[39m meta:\n\u001b[0;32m      3\u001b[0m         \u001b[38;5;28mprint\u001b[39m(venda)\n",
      "\u001b[1;31mTypeError\u001b[0m: '>=' not supported between instances of 'list' and 'int'"
     ]
    }
   ],
   "source": [
    "for venda in vendas:\n",
    "    if venda[1] >= meta:\n",
    "        print(venda)"
   ]
  },
  {
   "cell_type": "markdown",
   "metadata": {},
   "source": [
    "## 3. Comparação com Ano Anterior\n",
    "\n",
    "Digamos que você está analisando as vendas de produtos de um ecommerce e quer identificar quais produtos tiveram no ano de 2020 mais vendas do que no ano de 2019, para reportar isso para a diretoria.\n",
    "\n",
    "Sua resposta pode ser um print de cada produto, qual foi a venda de 2019, a venda de 2020 e o % de crescimento de 2020 para 2019.\n",
    "\n",
    "Lembrando, para calcular o % de crescimento de um produto de um ano para o outro, podemos fazer: (vendas_produto2020/vendas_produto2019 - 1)\n",
    "\n",
    "Dica: lembre do enumerate, ele pode facilitar seu \"for\""
   ]
  },
  {
   "cell_type": "code",
   "execution_count": 25,
   "metadata": {},
   "outputs": [],
   "source": [
    "produtos = ['iphone', 'galaxy', 'ipad', 'tv', 'máquina de café', 'kindle', 'geladeira', 'adega', 'notebook dell', 'notebook hp', 'notebook asus', 'microsoft surface', 'webcam', 'caixa de som', 'microfone', 'câmera canon']\n",
    "vendas2019 = [558147,712350,573823,405252,718654,531580,973139,892292,422760,154753,887061,438508,237467,489705,328311,591120]\n",
    "vendas2020 = [951642,244295,26964,787604,867660,78830,710331,646016,694913,539704,324831,667179,295633,725316,644622,994303]"
   ]
  },
  {
   "cell_type": "code",
   "execution_count": 45,
   "metadata": {},
   "outputs": [
    {
     "name": "stdout",
     "output_type": "stream",
     "text": [
      "O produto iphone teve um total de 558147 vendas em 2019 e 951642 em 2020, com uma taxa de 70.50% de crescimento\n",
      "O produto galaxy teve um total de 712350 vendas em 2019 e 244295 em 2020, com uma taxa de -65.71% de crescimento\n",
      "O produto ipad teve um total de 573823 vendas em 2019 e 26964 em 2020, com uma taxa de -95.30% de crescimento\n",
      "O produto tv teve um total de 405252 vendas em 2019 e 787604 em 2020, com uma taxa de 94.35% de crescimento\n",
      "O produto máquina de café teve um total de 718654 vendas em 2019 e 867660 em 2020, com uma taxa de 20.73% de crescimento\n",
      "O produto kindle teve um total de 531580 vendas em 2019 e 78830 em 2020, com uma taxa de -85.17% de crescimento\n",
      "O produto geladeira teve um total de 973139 vendas em 2019 e 710331 em 2020, com uma taxa de -27.01% de crescimento\n",
      "O produto adega teve um total de 892292 vendas em 2019 e 646016 em 2020, com uma taxa de -27.60% de crescimento\n",
      "O produto notebook dell teve um total de 422760 vendas em 2019 e 694913 em 2020, com uma taxa de 64.38% de crescimento\n",
      "O produto notebook hp teve um total de 154753 vendas em 2019 e 539704 em 2020, com uma taxa de 248.75% de crescimento\n",
      "O produto notebook asus teve um total de 887061 vendas em 2019 e 324831 em 2020, com uma taxa de -63.38% de crescimento\n",
      "O produto microsoft surface teve um total de 438508 vendas em 2019 e 667179 em 2020, com uma taxa de 52.15% de crescimento\n",
      "O produto webcam teve um total de 237467 vendas em 2019 e 295633 em 2020, com uma taxa de 24.49% de crescimento\n",
      "O produto caixa de som teve um total de 489705 vendas em 2019 e 725316 em 2020, com uma taxa de 48.11% de crescimento\n",
      "O produto microfone teve um total de 328311 vendas em 2019 e 644622 em 2020, com uma taxa de 96.34% de crescimento\n",
      "O produto câmera canon teve um total de 591120 vendas em 2019 e 994303 em 2020, com uma taxa de 68.21% de crescimento\n"
     ]
    }
   ],
   "source": [
    "for i, produto in enumerate(produtos):\n",
    "    print(\"O produto {} teve um total de {} vendas em 2019 e {} em 2020, com uma taxa de {:.2%} de crescimento\".format(produtos[i],vendas2019[i],vendas2020[i],(vendas2020[i]/vendas2019[i] - 1)))\n",
    "    "
   ]
  },
  {
   "cell_type": "code",
   "execution_count": 85,
   "metadata": {},
   "outputs": [
    {
     "name": "stdout",
     "output_type": "stream",
     "text": [
      "O produto iphone teve 951642 vendas em 2020 tendo um aumento de 70.50% comparado as 558147 vendas em 2019\n",
      "O produto galaxy teve 244295 vendas em 2020 tendo uma queda de -65.71% comparado as 712350 vendas em 2019\n",
      "O produto ipad teve 26964 vendas em 2020 tendo uma queda de -95.30% comparado as 573823 vendas em 2019\n",
      "O produto tv teve 787604 vendas em 2020 tendo um aumento de 94.35% comparado as 405252 vendas em 2019\n",
      "O produto máquina de café teve 867660 vendas em 2020 tendo um aumento de 20.73% comparado as 718654 vendas em 2019\n",
      "O produto kindle teve 78830 vendas em 2020 tendo uma queda de -85.17% comparado as 531580 vendas em 2019\n",
      "O produto geladeira teve 710331 vendas em 2020 tendo uma queda de -27.01% comparado as 973139 vendas em 2019\n",
      "O produto adega teve 646016 vendas em 2020 tendo uma queda de -27.60% comparado as 892292 vendas em 2019\n",
      "O produto notebook dell teve 694913 vendas em 2020 tendo um aumento de 64.38% comparado as 422760 vendas em 2019\n",
      "O produto notebook hp teve 539704 vendas em 2020 tendo um aumento de 248.75% comparado as 154753 vendas em 2019\n",
      "O produto notebook asus teve 324831 vendas em 2020 tendo uma queda de -63.38% comparado as 887061 vendas em 2019\n",
      "O produto microsoft surface teve 667179 vendas em 2020 tendo um aumento de 52.15% comparado as 438508 vendas em 2019\n",
      "O produto webcam teve 295633 vendas em 2020 tendo um aumento de 24.49% comparado as 237467 vendas em 2019\n",
      "O produto caixa de som teve 725316 vendas em 2020 tendo um aumento de 48.11% comparado as 489705 vendas em 2019\n",
      "O produto microfone teve 644622 vendas em 2020 tendo um aumento de 96.34% comparado as 328311 vendas em 2019\n",
      "O produto câmera canon teve 994303 vendas em 2020 tendo um aumento de 68.21% comparado as 591120 vendas em 2019\n"
     ]
    }
   ],
   "source": [
    "for i, produto in enumerate(produtos):\n",
    "    if vendas2019[i] > vendas2020[i]:\n",
    "        print(\"O produto {} teve {} vendas em 2020 tendo uma queda de {:.2%} comparado as {} vendas em 2019\".format(produtos[i],vendas2020[i],(vendas2020[i]/vendas2019[i] - 1),vendas2019[i]))\n",
    "    else:\n",
    "        print(\"O produto {} teve {} vendas em 2020 tendo um aumento de {:.2%} comparado as {} vendas em 2019\".format(produtos[i],vendas2020[i],(vendas2020[i]/vendas2019[i] - 1),vendas2019[i]))"
   ]
  },
  {
   "cell_type": "code",
   "execution_count": null,
   "metadata": {},
   "outputs": [],
   "source": []
  }
 ],
 "metadata": {
  "kernelspec": {
   "display_name": "Python 3 (ipykernel)",
   "language": "python",
   "name": "python3"
  },
  "language_info": {
   "codemirror_mode": {
    "name": "ipython",
    "version": 3
   },
   "file_extension": ".py",
   "mimetype": "text/x-python",
   "name": "python",
   "nbconvert_exporter": "python",
   "pygments_lexer": "ipython3",
   "version": "3.12.4"
  }
 },
 "nbformat": 4,
 "nbformat_minor": 4
}
